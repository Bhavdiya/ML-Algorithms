{
 "cells": [
  {
   "cell_type": "code",
   "execution_count": 2,
   "metadata": {},
   "outputs": [
    {
     "name": "stdout",
     "output_type": "stream",
     "text": [
      "Accuracy: 0.8\n",
      "\n",
      "Classification Report:\n",
      "              precision    recall  f1-score   support\n",
      "\n",
      "           0       0.75      0.92      0.83        85\n",
      "           1       0.89      0.68      0.77        80\n",
      "\n",
      "    accuracy                           0.80       165\n",
      "   macro avg       0.82      0.80      0.80       165\n",
      "weighted avg       0.82      0.80      0.80       165\n",
      "\n"
     ]
    },
    {
     "name": "stderr",
     "output_type": "stream",
     "text": [
      "/var/folders/sg/c8shysm54wqgb7jcv9cz00000000gn/T/ipykernel_4572/3400873380.py:21: SettingWithCopyWarning: \n",
      "A value is trying to be set on a copy of a slice from a DataFrame.\n",
      "Try using .loc[row_indexer,col_indexer] = value instead\n",
      "\n",
      "See the caveats in the documentation: https://pandas.pydata.org/pandas-docs/stable/user_guide/indexing.html#returning-a-view-versus-a-copy\n",
      "  X['ram_gb'] = X['ram_gb'].str.replace(' GB', '').astype(float)\n",
      "/var/folders/sg/c8shysm54wqgb7jcv9cz00000000gn/T/ipykernel_4572/3400873380.py:22: SettingWithCopyWarning: \n",
      "A value is trying to be set on a copy of a slice from a DataFrame.\n",
      "Try using .loc[row_indexer,col_indexer] = value instead\n",
      "\n",
      "See the caveats in the documentation: https://pandas.pydata.org/pandas-docs/stable/user_guide/indexing.html#returning-a-view-versus-a-copy\n",
      "  X['ssd'] = X['ssd'].str.replace(' GB', '').astype(float)\n",
      "/var/folders/sg/c8shysm54wqgb7jcv9cz00000000gn/T/ipykernel_4572/3400873380.py:23: SettingWithCopyWarning: \n",
      "A value is trying to be set on a copy of a slice from a DataFrame.\n",
      "Try using .loc[row_indexer,col_indexer] = value instead\n",
      "\n",
      "See the caveats in the documentation: https://pandas.pydata.org/pandas-docs/stable/user_guide/indexing.html#returning-a-view-versus-a-copy\n",
      "  X['hdd'] = X['hdd'].str.replace(' GB', '').astype(float)\n",
      "/var/folders/sg/c8shysm54wqgb7jcv9cz00000000gn/T/ipykernel_4572/3400873380.py:24: SettingWithCopyWarning: \n",
      "A value is trying to be set on a copy of a slice from a DataFrame.\n",
      "Try using .loc[row_indexer,col_indexer] = value instead\n",
      "\n",
      "See the caveats in the documentation: https://pandas.pydata.org/pandas-docs/stable/user_guide/indexing.html#returning-a-view-versus-a-copy\n",
      "  X['graphic_card_gb'] = X['graphic_card_gb'].str.replace(' GB', '').astype(float)\n"
     ]
    },
    {
     "data": {
      "image/png": "[encoded data removed]",
      "text/plain": [
       "<Figure size 1000x600 with 1 Axes>"
      ]
     },
     "metadata": {},
     "output_type": "display_data"
    },
    {
     "name": "stdout",
     "output_type": "stream",
     "text": [
      "\n",
      "Feature Coefficients:\n",
      "           Feature  Coefficient  Abs_Coefficient\n",
      "3  graphic_card_gb     0.573552         0.573552\n",
      "0           ram_gb     0.185718         0.185718\n",
      "1              ssd     0.003785         0.003785\n",
      "2              hdd    -0.000267         0.000267\n"
     ]
    }
   ],
   "source": [
    "import pandas as pd\n",
    "import numpy as np\n",
    "from sklearn.model_selection import train_test_split\n",
    "from sklearn.linear_model import LogisticRegression\n",
    "from sklearn.preprocessing import LabelEncoder\n",
    "from sklearn.metrics import accuracy_score, classification_report\n",
    "import matplotlib.pyplot as plt\n",
    "import seaborn as sns\n",
    "\n",
    "# Load the data\n",
    "df = pd.read_csv('../Ensemble/boosting/xgboost/laptopPrice.csv')\n",
    "\n",
    "# Create binary target variable based on price threshold (median price)\n",
    "median_price = df['Price'].median()\n",
    "df['high_price'] = (df['Price'] > median_price).astype(int)\n",
    "\n",
    "# Select features\n",
    "X = df[['ram_gb', 'ssd', 'hdd', 'graphic_card_gb']]\n",
    "\n",
    "# Clean numeric features by removing 'GB' and converting to float\n",
    "X['ram_gb'] = X['ram_gb'].str.replace(' GB', '').astype(float)\n",
    "X['ssd'] = X['ssd'].str.replace(' GB', '').astype(float) \n",
    "X['hdd'] = X['hdd'].str.replace(' GB', '').astype(float)\n",
    "X['graphic_card_gb'] = X['graphic_card_gb'].str.replace(' GB', '').astype(float)\n",
    "\n",
    "y = df['high_price']\n",
    "\n",
    "# Split the data\n",
    "X_train, X_test, y_train, y_test = train_test_split(X, y, test_size=0.2, random_state=42)\n",
    "\n",
    "# Create and train the model\n",
    "model = LogisticRegression(random_state=42)\n",
    "model.fit(X_train, y_train)\n",
    "\n",
    "# Make predictions\n",
    "y_pred = model.predict(X_test)\n",
    "\n",
    "# Print results\n",
    "print(\"Accuracy:\", accuracy_score(y_test, y_pred))\n",
    "print(\"\\nClassification Report:\")\n",
    "print(classification_report(y_test, y_pred))\n",
    "\n",
    "# Create feature importance DataFrame and plot\n",
    "feature_importance = pd.DataFrame({\n",
    "    'Feature': X.columns,\n",
    "    'Coefficient': model.coef_[0]\n",
    "})\n",
    "\n",
    "# Sort features by absolute coefficient value\n",
    "feature_importance['Abs_Coefficient'] = abs(feature_importance['Coefficient'])\n",
    "feature_importance = feature_importance.sort_values('Abs_Coefficient', ascending=True)\n",
    "\n",
    "# Create bar plot\n",
    "plt.figure(figsize=(10, 6))\n",
    "bars = plt.barh(feature_importance['Feature'], feature_importance['Coefficient'])\n",
    "\n",
    "# Color code bars based on positive/negative coefficients\n",
    "for bar in bars:\n",
    "    if bar.get_width() < 0:\n",
    "        bar.set_color('red')\n",
    "    else:\n",
    "        bar.set_color('blue')\n",
    "\n",
    "plt.title('Feature Importance in Logistic Regression Model')\n",
    "plt.xlabel('Coefficient Value')\n",
    "plt.ylabel('Features')\n",
    "\n",
    "# Add value labels on the bars\n",
    "for i, v in enumerate(feature_importance['Coefficient']):\n",
    "    plt.text(v, i, f' {v:.3f}', va='center')\n",
    "\n",
    "plt.tight_layout()\n",
    "plt.show()\n",
    "\n",
    "print(\"\\nFeature Coefficients:\")\n",
    "print(feature_importance.sort_values(by='Coefficient', ascending=False))\n"
   ]
  },
  {
   "cell_type": "code",
   "execution_count": null,
   "metadata": {},
   "outputs": [],
   "source": []
  }
 ],
 "metadata": {
  "kernelspec": {
   "display_name": "Python 3",
   "language": "python",
   "name": "python3"
  },
  "language_info": {
   "codemirror_mode": {
    "name": "ipython",
    "version": 3
   },
   "file_extension": ".py",
   "mimetype": "text/x-python",
   "name": "python",
   "nbconvert_exporter": "python",
   "pygments_lexer": "ipython3",
   "version": "3.10.11"
  }
 },
 "nbformat": 4,
 "nbformat_minor": 2
}
